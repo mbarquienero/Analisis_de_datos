{
 "cells": [
  {
   "cell_type": "markdown",
   "metadata": {},
   "source": [
    " =============================================================\n",
    "  ##               TRABAJO FINAL INTEGRADOR       \n",
    "\n",
    "  ###                  ANALISIS DE DATOS\n",
    "  ###                 CRIMENES DE CHICAGO\n",
    " =============================================================\n",
    "\n",
    "\n",
    "**ALUMNOS:**\n",
    "- Mauro Fabian Barquinero\n",
    "- Martin Errazquin\n",
    "---"
   ]
  },
  {
   "cell_type": "markdown",
   "metadata": {},
   "source": [
    "Importar librerias"
   ]
  },
  {
   "cell_type": "code",
   "execution_count": 432,
   "metadata": {},
   "outputs": [],
   "source": [
    "import pandas as pd\n",
    "import numpy as np\n",
    "import matplotlib.pyplot as plt\n",
    "import seaborn as sns\n",
    "import calendar"
   ]
  },
  {
   "cell_type": "markdown",
   "metadata": {},
   "source": [
    "## Carga de datos"
   ]
  },
  {
   "cell_type": "code",
   "execution_count": null,
   "metadata": {},
   "outputs": [],
   "source": [
    "#  Cargar el dataset\n",
    "file_path = \"C:\\CEIA\\Analisis_de_datos\\Trabajo Final\\Crimes_-_2024_20250315.csv\"\n",
    "df = pd.read_csv(file_path)"
   ]
  },
  {
   "cell_type": "markdown",
   "metadata": {},
   "source": [
    "# Análisis de la Estructura del Dataset"
   ]
  },
  {
   "cell_type": "code",
   "execution_count": null,
   "metadata": {},
   "outputs": [],
   "source": [
    "# Se explora la estructura del dataset\n",
    "print(\"\\n🔹 Primeras filas del dataset\")\n",
    "df.head()"
   ]
  },
  {
   "cell_type": "code",
   "execution_count": null,
   "metadata": {},
   "outputs": [],
   "source": [
    "print(\"\\n🔹 Informacion general del dataset\")\n",
    "df.info()"
   ]
  },
  {
   "cell_type": "code",
   "execution_count": 436,
   "metadata": {},
   "outputs": [
    {
     "name": "stdout",
     "output_type": "stream",
     "text": [
      "\n",
      " 🔹 Cantidad de filas y columnas (257668, 22)\n"
     ]
    }
   ],
   "source": [
    "print(\"\\n 🔹 Cantidad de filas y columnas\", df.shape)"
   ]
  },
  {
   "cell_type": "code",
   "execution_count": null,
   "metadata": {},
   "outputs": [],
   "source": [
    "print(\"\\n🔹 Nombres de las columnas en el dataset:\")\n",
    "df.columns"
   ]
  },
  {
   "cell_type": "code",
   "execution_count": null,
   "metadata": {},
   "outputs": [],
   "source": [
    "# Se listan los distritos en orden\n",
    "distritos_unicos = df[\"District\"].dropna().unique()\n",
    "distritos_df = pd.DataFrame({\"Distrito\": sorted(distritos_unicos)})\n",
    "print(\"\\n Distritos: \")\n",
    "distritos_df"
   ]
  },
  {
   "cell_type": "markdown",
   "metadata": {},
   "source": [
    "# Limpieza de Datos"
   ]
  },
  {
   "cell_type": "code",
   "execution_count": null,
   "metadata": {},
   "outputs": [],
   "source": [
    "## Lista de columnas que no son útiles para el análisis\n",
    "'''\n",
    "ID: Es solo un identificador único, no aporta información útil\n",
    "Case Number: Es solo un número de referencia para la policía\n",
    "Block: Muestra direcciones parcialmente censuradas; no permite un análisis geoespacial preciso.\n",
    "IUCR: Un código numérico que solo sirve como referencia interna.\n",
    "FBI Code: Solo clasifica crímenes según el sistema del FBI, pero no es útil para tendencias\n",
    "'''\n",
    "columnas_a_eliminar = [\"ID\", \"Case Number\", \"Block\", \"IUCR\", \"FBI Code\"] \n",
    "df = df.drop(columns=columnas_a_eliminar)\n",
    "\n",
    "# Verificar que las columnas fueron eliminadas\n",
    "print(\"\\n🔹 Columnas después de la eliminación:\", df.columns)\n",
    "print(df.head())\n",
    "\n",
    "print(\"\\n🔹 Valores nulos en cada columna:\")\n",
    "print(df.isnull().sum())\n",
    "\n",
    "df.drop_duplicates(inplace=True)\n",
    "print(\"\\n✅ Duplicados eliminados.\")\n",
    "\n",
    "# Rellenar valores nulos con espacios en blanco\n",
    "df.fillna(\" \", inplace=True)\n",
    "print(\"\\n✅Los valores nulos se reemplazaron satisfactoriamente\")\n",
    "\n",
    "# Normalizar nombres de columnas\n",
    "df.columns = df.columns.str.strip().str.lower()\n",
    "print(\"\\n✅ La normalizacion de columnas ha sido satisfactoria.\")"
   ]
  },
  {
   "cell_type": "markdown",
   "metadata": {},
   "source": [
    "# Analisis Estadistico Descriptivo"
   ]
  },
  {
   "cell_type": "code",
   "execution_count": null,
   "metadata": {},
   "outputs": [],
   "source": [
    "# Tendencia central\n",
    "print(\"\\n🔹 Media (valor promedio)\")\n",
    "media =df.mean(numeric_only=True)\n",
    "print(media)\n",
    "\n",
    "print(\"\\n🔹 Mediana (Valor central)\")\n",
    "mediana =df.median(numeric_only=True)\n",
    "print(mediana)"
   ]
  },
  {
   "cell_type": "code",
   "execution_count": null,
   "metadata": {},
   "outputs": [],
   "source": [
    "#======================================\n",
    "# Moda - Top 10 crímenes más comunes\n",
    "#======================================\n",
    "print(\"\\n🔹 Moda (Valor mas frencuente)\")\n",
    "\n",
    "# Análisis de Moda: Tipo de Crimen más frecuente\n",
    "tipo_crimen_mas_frecuente = df[\"primary type\"].mode()[0]\n",
    "\n",
    "# Contar la frecuencia de cada tipo de crimen\n",
    "conteo_tipos_crimen = df[\"primary type\"].value_counts().head(10)  # Top 10 crímenes más comunes\n",
    "\n",
    "# Gráfico de Barras: Delitos más frecuentes\n",
    "plt.figure(figsize=(12, 6))\n",
    "sns.barplot(x=conteo_tipos_crimen.values, y=conteo_tipos_crimen.index, palette=\"viridis\")\n",
    "\n",
    "plt.title(\"Top 10 Tipos de Crímenes Más Frecuentes en Chicago\")\n",
    "plt.xlabel(\"Cantidad de Casos\")\n",
    "plt.ylabel(\"Tipo de Crimen\")\n",
    "plt.grid(axis='x', linestyle='--', alpha=0.7)\n",
    "plt.show()\n",
    "\n",
    "# Mostrar el delito más frecuente\n",
    "print(\"\\n El delito mas frecuente: \", tipo_crimen_mas_frecuente)"
   ]
  },
  {
   "cell_type": "code",
   "execution_count": null,
   "metadata": {},
   "outputs": [],
   "source": [
    "# 1.1 Dispersion\n",
    "print(\"\\n🔹 Varianza (Dispesion respecto a la media)\")\n",
    "varianza = df.var(numeric_only=True)\n",
    "print(varianza)\n",
    "\n",
    "print(\"\\n🔹 Desviacion Estandar\")\n",
    "desviacion_estandar = df.std(numeric_only=True)\n",
    "print(desviacion_estandar)"
   ]
  },
  {
   "cell_type": "code",
   "execution_count": null,
   "metadata": {},
   "outputs": [],
   "source": [
    "# ========================================\n",
    "# Cantidad total de crímenes por distrito\n",
    "#=========================================\n",
    "crimenes_por_distrito = df[\"district\"].value_counts().sort_values(ascending=False)\n",
    "\n",
    "# Gráfico de Barras: Distritos con Más Crímenes\n",
    "plt.figure(figsize=(12, 6))\n",
    "sns.barplot(x=crimenes_por_distrito.index, y=crimenes_por_distrito.values, palette=\"viridis\")\n",
    "\n",
    "# Personalizar el gráfico\n",
    "plt.title(\"Cantidad de Crímenes por Distrito en Chicago\")\n",
    "plt.xlabel(\"Distrito Policial\")\n",
    "plt.ylabel(\"Cantidad de Crímenes\")\n",
    "plt.xticks(rotation=45)\n",
    "plt.grid(axis='y', linestyle='--', alpha=0.7)\n",
    "\n",
    "# Mostrar el gráfico\n",
    "plt.show()"
   ]
  },
  {
   "cell_type": "markdown",
   "metadata": {},
   "source": [
    "## 1. ¿Cómo varía la distribución de los crímenes a lo largo de las horas del día, los días de la semana y los meses del año?¿Se observan anomalías y/o patrones estacionales?"
   ]
  },
  {
   "cell_type": "code",
   "execution_count": null,
   "metadata": {},
   "outputs": [],
   "source": [
    "# Se convierte la fecha en formato datetime\n",
    "df[\"date\"] = pd.to_datetime(df[\"date\"], errors='coerce')\n",
    "\n",
    "# Extraer información temporal para el análisis\n",
    "df[\"Hora\"] = df[\"date\"].dt.hour  # Extraer la hora del crimen\n",
    "df[\"Día de la Semana\"] = df[\"date\"].dt.day_name()  # Extraer el día de la semana\n",
    "df[\"Mes\"] = df[\"date\"].dt.month  # Extraer el mes\n",
    "\n",
    "# ======================================================\n",
    "#  Gráfico 1: Distribución de Crímenes por Hora del Día\n",
    "# ======================================================\n",
    "plt.figure(figsize=(12, 5))\n",
    "sns.histplot(df[\"Hora\"], bins=24, kde=True, color=\"blue\", alpha=0.6)\n",
    "plt.title(\" Distribución de Crímenes por Hora del Día\")\n",
    "plt.xlabel(\"Hora del Día\")\n",
    "plt.ylabel(\"Cantidad de Crímenes\")\n",
    "plt.grid(axis='y', linestyle='--', alpha=0.7)\n",
    "plt.show()"
   ]
  },
  {
   "cell_type": "markdown",
   "metadata": {},
   "source": [
    "###  Variación de Crímenes por Hora del Día\n",
    "Pico de crímenes ocurre a las 00:00 horas (medianoche).\n",
    "Hay un aumento de crímenes en las noches, lo que sugiere que el crimen es más frecuente en horarios nocturnos.\n",
    "Madrugada y mañana tienen menos crímenes."
   ]
  },
  {
   "cell_type": "code",
   "execution_count": null,
   "metadata": {},
   "outputs": [],
   "source": [
    "# ==========================================================\n",
    "#  Gráfico 2: Distribución de Crímenes por Día de la Semana\n",
    "# ==========================================================\n",
    "plt.figure(figsize=(12, 5))\n",
    "sns.countplot(x=df[\"Día de la Semana\"], order=[\"Monday\", \"Tuesday\", \"Wednesday\", \"Thursday\", \"Friday\", \"Saturday\", \"Sunday\"], palette=\"viridis\")\n",
    "plt.title(\"Distribución de Crímenes por Día de la Semana\")\n",
    "plt.xlabel(\"Día de la Semana\")\n",
    "plt.ylabel(\"Cantidad de Crímenes\")\n",
    "plt.grid(axis='y', linestyle='--', alpha=0.7)\n",
    "plt.show()"
   ]
  },
  {
   "cell_type": "markdown",
   "metadata": {},
   "source": [
    "### Variación de Crímenes por Día de la Semana\n",
    "- El lunes es el día con más crímenes reportados.\n",
    "- Fines de semana (sábado y domingo) no muestran un aumento significativo, lo que contradice la creencia de que los crímenes aumentan esos días."
   ]
  },
  {
   "cell_type": "code",
   "execution_count": null,
   "metadata": {},
   "outputs": [],
   "source": [
    "# ====================================================\n",
    "# Gráfico 3: Distribución de Crímenes por Mes del Año\n",
    "# ====================================================\n",
    "plt.figure(figsize=(12, 5))\n",
    "sns.countplot(x=df[\"Mes\"], palette=\"magma\")\n",
    "plt.title(\"Distribución de Crímenes por Mes del Año\")\n",
    "plt.xlabel(\"Mes\")\n",
    "plt.ylabel(\"Cantidad de Crímenes\")\n",
    "plt.xticks(range(0, 12), [\"Enero\", \"Febrero\", \"Marzo\", \"Abril\", \"Mayo\", \"Junio\", \"Julio\", \"Agosto\", \"Septiembre\", \"Octubre\", \"Noviembre\", \"Diciembre\"], rotation=45)\n",
    "plt.grid(axis='y', linestyle='--', alpha=0.7)\n",
    "plt.show()"
   ]
  },
  {
   "cell_type": "markdown",
   "metadata": {},
   "source": [
    "### Variación de Crímenes por Mes del Año\n",
    "- Julio es el mes con más crímenes reportados.\n",
    "- Se observa un aumento de crímenes en verano (junio-julio-agosto), lo que puede estar relacionado con el aumento de actividades al aire libre y mayor movilidad de las personas."
   ]
  },
  {
   "cell_type": "code",
   "execution_count": null,
   "metadata": {},
   "outputs": [],
   "source": [
    "# ==================================================================================================================\n",
    "# Análisis de Anomalías y Patrones Estacionales\n",
    "# Se proceden a calcular la Moda, Media, Mediana, Percentiles y Desviacion Estandar para la hora, dia y mes del año\n",
    "# ==================================================================================================================\n",
    "hora_pico = df[\"Hora\"].mode()[0]  # Hora con más crímenes\n",
    "media_hora = df[\"Hora\"].mean()\n",
    "mediana_hora = df[\"Hora\"].median()\n",
    "percentiles_hora = df[\"Hora\"].quantile([0.25, 0.50, 0.75])\n",
    "std_hora = df[\"Hora\"].std()\n",
    "\n",
    "# Media y Mediana de los crímenes por día de la semana (convirtiendo a números)\n",
    "dias_semana_ordenados = [\"Monday\", \"Tuesday\", \"Wednesday\", \"Thursday\", \"Friday\", \"Saturday\", \"Sunday\"]\n",
    "df[\"Dia_Num\"] = df[\"Día de la Semana\"].apply(lambda x: dias_semana_ordenados.index(x) if x in dias_semana_ordenados else None)\n",
    "\n",
    "dia_pico = df[\"Día de la Semana\"].mode()[0]  # Día con más crímenes\n",
    "media_dia = df[\"Dia_Num\"].mean()\n",
    "mediana_dia = df[\"Dia_Num\"].median()\n",
    "percentiles_dia = df[\"Dia_Num\"].quantile([0.25, 0.50, 0.75])\n",
    "std_dia = df[\"Dia_Num\"].std()\n",
    "\n",
    "mes_pico = df[\"Mes\"].mode()[0]  # Mes con más crímenes\n",
    "media_mes = df[\"Mes\"].mean()\n",
    "mediana_mes = df[\"Mes\"].median()\n",
    "percentiles_mes = df[\"Mes\"].quantile([0.25, 0.50, 0.75])\n",
    "std_mes = df[\"Mes\"].std()\n",
    "\n",
    "# Convertir el número del día y mes a su nombre correspondiente\n",
    "nombre_mediana_dia = dias_semana_ordenados[int(mediana_dia)]\n",
    "nombre_mediana_mes = calendar.month_name[int(mediana_mes)]\n",
    "# Obtener el nombre del mes\n",
    "nombre_mes_pico = calendar.month_name[mes_pico]\n",
    "\n",
    "print(\"\\n--=== Análisis de Anomalías y Patrones Estacionales ===--\\n\")\n",
    "\n",
    "# Análisis por Hora\n",
    "print(\"** Distribución de Crímenes por Hora del Día **\")\n",
    "print(f\"Hora con más crímenes (Moda): {hora_pico}:00 hrs\")\n",
    "print(f\"Hora promedio de crímenes (Media): {media_hora:.2f} hrs\")\n",
    "print(f\"Hora central de crímenes (Mediana): {mediana_hora:.2f} hrs\")\n",
    "print(f\"Desviación estándar: {std_hora:.2f} hrs\")\n",
    "print(f\"Percentiles: 25%={percentiles_hora[0.25]:.2f}, 50%={percentiles_hora[0.50]:.2f}, 75%={percentiles_hora[0.75]:.2f}\\n\")\n",
    "\n",
    "# Análisis por Día de la Semana\n",
    "print(\"** Distribución de Crímenes por Día de la Semana **\")\n",
    "print(f\"Día con más crímenes (Moda): {dia_pico}\")\n",
    "print(f\"Día promedio de crímenes (Media): {dias_semana_ordenados[int(media_dia)]}\")\n",
    "print(f\"Día central de crímenes (Mediana): {nombre_mediana_dia}\")\n",
    "print(f\"Desviación estándar: {std_dia:.2f} días\")\n",
    "print(f\"Percentiles: 25%={dias_semana_ordenados[int(percentiles_dia[0.25])]}, 50%={dias_semana_ordenados[int(percentiles_dia[0.50])]}, 75%={dias_semana_ordenados[int(percentiles_dia[0.75])]}\\n\")\n",
    "\n",
    "# Análisis por Mes\n",
    "print(\"**Distribución de Crímenes por Mes del Año **\")\n",
    "print(f\"Mes con más crímenes (Moda): {nombre_mes_pico}\")\n",
    "print(f\"Mes promedio de crímenes (Media): {calendar.month_name[int(media_mes)]}\")\n",
    "print(f\"Mes central de crímenes (Mediana): {nombre_mediana_mes}\")\n",
    "print(f\"Desviación estándar: {std_mes:.2f} meses\")\n",
    "print(f\"Percentiles: 25%={calendar.month_name[int(percentiles_mes[0.25])]}, 50%={calendar.month_name[int(percentiles_mes[0.50])]}, 75%={calendar.month_name[int(percentiles_mes[0.75])]}\")"
   ]
  },
  {
   "cell_type": "markdown",
   "metadata": {},
   "source": [
    "#  Análisis de Anomalías y Patrones Estacionales\n",
    "\n",
    "## 🕒 Distribución de Crímenes por Hora del Día\n",
    "- **Moda:** `00:00 hrs` → Hora con más crímenes.\n",
    "- **Media:** `12:52 hrs` → Promedio de la hora del crimen.\n",
    "- **Mediana:** `13:00 hrs` → Hora central del crimen.\n",
    "- **Desviación estándar:** `6.85 hrs` → Los crímenes están bastante dispersos a lo largo del día.\n",
    "- **Percentiles:**\n",
    "  - 🔹 **25%** de los crímenes ocurren antes de las `08:00 hrs`.\n",
    "  - 🔹 **50%** ocurren antes de las `13:00 hrs` (**Mediana**).\n",
    "  - 🔹 **75%** ocurren antes de las `18:00 hrs`.\n",
    "\n",
    "✔️ **Conclusión:** Aunque el **pico** es a medianoche, la mayor concentración de crímenes ocurre entre **mediodía y las 6 PM**.\n",
    "\n",
    "---\n",
    "\n",
    "## 🗓 Distribución de Crímenes por Día de la Semana\n",
    "- **Moda:** `Monday (Lunes)` → Día con más crímenes.\n",
    "- **Media:** `Wednesday (Miércoles)` → Promedio del día con crímenes.\n",
    "- **Mediana:** `Thursday (Jueves)` → Día central en la distribución.\n",
    "- **Desviación estándar:** `2.01 días` → Los crímenes están distribuidos de manera amplia en la semana.\n",
    "- **Percentiles:**\n",
    "  - 🔹 **25%** de los crímenes ocurren antes del `martes`.\n",
    "  - 🔹 **50%** ocurren antes del `jueves` (**Mediana**).\n",
    "  - 🔹 **75%** ocurren antes del `sábado`.\n",
    "\n",
    "✔️ **Conclusión:** Aunque los **lunes** tienen más crímenes, la actividad criminal se mantiene **estable durante toda la semana**, con un **pequeño pico en jueves**.\n",
    "\n",
    "---\n",
    "\n",
    "## 📅 Distribución de Crímenes por Mes del Año\n",
    "- **Moda:** `July (Julio)` → Mes con más crímenes.\n",
    "- **Media:** `June (Junio)` → Promedio de los crímenes por mes.\n",
    "- **Mediana:** `July (Julio)` → Mes central en la distribución.\n",
    "- **Desviación estándar:** `3.35 meses` → Los crímenes están distribuidos a lo largo del año, pero con una **tendencia fuerte en verano**.\n",
    "- **Percentiles:**\n",
    "  - 🔹 **25%** de los crímenes ocurren antes de `abril`.\n",
    "  - 🔹 **50%** ocurren antes de `julio` (**Mediana**).\n",
    "  - 🔹 **75%** ocurren antes de `septiembre`.\n",
    "\n",
    "✔️ **Conclusión:** **Los crímenes aumentan en verano, con julio como el mes más crítico**, pero hay una **distribución gradual durante el año**."
   ]
  }
 ],
 "metadata": {
  "kernelspec": {
   "display_name": "Python 3",
   "language": "python",
   "name": "python3"
  },
  "language_info": {
   "codemirror_mode": {
    "name": "ipython",
    "version": 3
   },
   "file_extension": ".py",
   "mimetype": "text/x-python",
   "name": "python",
   "nbconvert_exporter": "python",
   "pygments_lexer": "ipython3",
   "version": "3.12.8"
  }
 },
 "nbformat": 4,
 "nbformat_minor": 2
}
